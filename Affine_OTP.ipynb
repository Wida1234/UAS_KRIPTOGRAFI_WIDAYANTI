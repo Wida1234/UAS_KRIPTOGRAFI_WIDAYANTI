{
  "nbformat": 4,
  "nbformat_minor": 0,
  "metadata": {
    "colab": {
      "provenance": [],
      "authorship_tag": "ABX9TyMXrIZY2C2dB68PKCemq6UH",
      "include_colab_link": true
    },
    "kernelspec": {
      "name": "python3",
      "display_name": "Python 3"
    },
    "language_info": {
      "name": "python"
    }
  },
  "cells": [
    {
      "cell_type": "markdown",
      "metadata": {
        "id": "view-in-github",
        "colab_type": "text"
      },
      "source": [
        "<a href=\"https://colab.research.google.com/github/Wida1234/UAS_KRIPTOGRAFI_WIDAYANTI/blob/main/Affine_OTP.ipynb\" target=\"_parent\"><img src=\"https://colab.research.google.com/assets/colab-badge.svg\" alt=\"Open In Colab\"/></a>"
      ]
    },
    {
      "cell_type": "code",
      "execution_count": 1,
      "metadata": {
        "colab": {
          "base_uri": "https://localhost:8080/"
        },
        "id": "4bEtQFB_4WJl",
        "outputId": "240a77a6-4069-4d07-8e10-cfb3b5a75ee8"
      },
      "outputs": [
        {
          "output_type": "stream",
          "name": "stdout",
          "text": [
            "Affine Key: (3, 22)\n",
            "Encrypted Message: JAVVE\n",
            "Generated OTP: S57KCK\n",
            "Affine OTP: JAVVES57KCK\n"
          ]
        }
      ],
      "source": [
        "import string\n",
        "import random\n",
        "\n",
        "def generate_affine_key():\n",
        "    # Affine cipher key consists of two numbers (a, b)\n",
        "    a = random.randint(1, 25)\n",
        "    b = random.randint(1, 25)\n",
        "    return a, b\n",
        "\n",
        "def affine_encrypt(plain_text, key):\n",
        "    a, b = key\n",
        "    encrypted_text = \"\"\n",
        "    for char in plain_text:\n",
        "        if char.isalpha():\n",
        "            # Apply the affine transformation (ax + b) % 26\n",
        "            encrypted_char = chr(((ord(char) - ord('A') + b) * a) % 26 + ord('A'))\n",
        "            encrypted_text += encrypted_char\n",
        "        else:\n",
        "            encrypted_text += char\n",
        "    return encrypted_text\n",
        "\n",
        "def generate_otp(length=6):\n",
        "    characters = string.ascii_uppercase + string.digits\n",
        "    return ''.join(random.choice(characters) for _ in range(length))\n",
        "\n",
        "# Generate Affine key\n",
        "affine_key = generate_affine_key()\n",
        "print(\"Affine Key:\", affine_key)\n",
        "\n",
        "# Your secret message\n",
        "secret_message = \"HELLO\"\n",
        "\n",
        "# Encrypt the message using the Affine cipher\n",
        "encrypted_message = affine_encrypt(secret_message, affine_key)\n",
        "print(\"Encrypted Message:\", encrypted_message)\n",
        "\n",
        "# Generate OTP\n",
        "otp = generate_otp()\n",
        "print(\"Generated OTP:\", otp)\n",
        "\n",
        "# Combine the encrypted message and OTP\n",
        "affine_otp = f\"{encrypted_message}{otp}\"\n",
        "print(\"Affine OTP:\", affine_otp)\n"
      ]
    }
  ]
}